{
 "cells": [
  {
   "cell_type": "code",
   "execution_count": 2,
   "metadata": {},
   "outputs": [],
   "source": [
    "import numpy as np\n",
    "import math"
   ]
  },
  {
   "cell_type": "code",
   "execution_count": 88,
   "metadata": {},
   "outputs": [],
   "source": [
    "# we need gradient descent and forward propogation\n",
    "def g(z):\n",
    "    return 1/(1+math.e**-z)\n",
    "\n",
    "def forward_propogation(w,b,x):\n",
    "    y=w*x+b\n",
    "    return y\n",
    "def backword_propogation(y_t,y,w,x,b):\n",
    "    y=y-y_t\n",
    "    d_w=np.mean((np.dot(y,x)))\n",
    "    d_b=np.mean(y)\n",
    "    print((np.mean((y)**2))/2)\n",
    "  #  print(d_w,d_b)\n",
    "    w=w-0.000001*d_w\n",
    "    b=b-0.000001*d_b\n",
    "    return w,b\n",
    "def train(itr,x,y_t):\n",
    "    w=np.random.uniform(0,1)\n",
    "    b=np.random.uniform(0,1)\n",
    "    while itr>0:\n",
    "        y=forward_propogation(w,b,x)\n",
    "        w,b=backword_propogation(y_t,y,w,x,b)\n",
    "        #print(w,b)\n",
    "        itr=itr-1\n",
    "\n",
    "\n",
    "\n"
   ]
  },
  {
   "cell_type": "code",
   "execution_count": 89,
   "metadata": {},
   "outputs": [
    {
     "name": "stdout",
     "output_type": "stream",
     "text": [
      "1500.4345355533221\n",
      "896.2301154110953\n",
      "641.3798802311359\n",
      "533.8853744297486\n",
      "488.54472827953265\n",
      "469.4202481774934\n",
      "461.3536068987131\n",
      "457.95110297764967\n",
      "456.51590728375885\n",
      "455.91051169306184\n",
      "455.65512135409256\n",
      "455.5473613610018\n",
      "455.5018710593504\n",
      "455.4826457809921\n",
      "455.4744989491973\n",
      "455.4710249470105\n",
      "455.46952191941074\n",
      "455.468850238381\n",
      "455.46852921490904\n",
      "455.4683560969381\n"
     ]
    }
   ],
   "source": [
    "x=np.random.randint(10,100,(100))\n",
    "y=np.random.randint(10,100,size=(100))\n",
    "#print(y.shape)\n",
    "train(20,x,y)\n"
   ]
  },
  {
   "cell_type": "code",
   "execution_count": null,
   "metadata": {},
   "outputs": [],
   "source": []
  }
 ],
 "metadata": {
  "kernelspec": {
   "display_name": "Python 3",
   "language": "python",
   "name": "python3"
  },
  "language_info": {
   "codemirror_mode": {
    "name": "ipython",
    "version": 3
   },
   "file_extension": ".py",
   "mimetype": "text/x-python",
   "name": "python",
   "nbconvert_exporter": "python",
   "pygments_lexer": "ipython3",
   "version": "3.10.11"
  },
  "orig_nbformat": 4
 },
 "nbformat": 4,
 "nbformat_minor": 2
}
