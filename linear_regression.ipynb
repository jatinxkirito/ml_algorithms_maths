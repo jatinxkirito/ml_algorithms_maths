{
 "cells": [
  {
   "cell_type": "code",
   "execution_count": 2,
   "metadata": {},
   "outputs": [],
   "source": [
    "import numpy as np\n",
    "import math"
   ]
  },
  {
   "cell_type": "code",
   "execution_count": 103,
   "metadata": {},
   "outputs": [],
   "source": [
    "# we need gradient descent and forward propogation\n",
    "def g(z):\n",
    "    return 1/(1+math.e**-z)\n",
    "\n",
    "def forward_propogation(w,b,x):\n",
    "    y=w*x+b\n",
    "    return y\n",
    "def backword_propogation(y_t,y,w,x,b):\n",
    "    y=y-y_t\n",
    "    d_w=np.mean((np.dot(y,x)))\n",
    "    d_b=np.mean(y)\n",
    "    print((np.mean((y)**2))/2)\n",
    "    #print(d_w,d_b)\n",
    "    w=w-0.000001*d_w\n",
    "    b=b-0.000001*d_b\n",
    "    return w,b\n",
    "def train(itr,x,y_t):\n",
    "    w=np.random.uniform(0,10)\n",
    "    b=np.random.uniform(0,10)\n",
    "    while itr>0:\n",
    "        y=forward_propogation(w,b,x)\n",
    "        w,b=backword_propogation(y_t,y,w,x,b)\n",
    "        #print(w,b)\n",
    "        itr=itr-1\n",
    "\n",
    "\n",
    "\n"
   ]
  },
  {
   "cell_type": "code",
   "execution_count": 104,
   "metadata": {},
   "outputs": [
    {
     "name": "stdout",
     "output_type": "stream",
     "text": [
      "35605.39662428868\n",
      "15422.220922868084\n",
      "6681.555214766204\n",
      "2896.2620499737327\n",
      "1256.976802790499\n",
      "547.0565916749441\n",
      "239.61363293938174\n",
      "106.47025767938356\n",
      "48.81026594008187\n",
      "23.839630503983265\n",
      "13.025673871568149\n",
      "8.342506505597834\n",
      "6.314381155540007\n",
      "5.436066669940192\n",
      "5.055697232329294\n",
      "4.890971322259463\n",
      "4.819633490167772\n",
      "4.788738945235792\n",
      "4.77535905005037\n",
      "4.7695641702604235\n"
     ]
    }
   ],
   "source": [
    "x=np.random.randint(10,100,(100))\n",
    "x.sort()\n",
    "y=np.random.randint(10,100,size=(100))\n",
    "y.sort()\n",
    "#print(y.shape)\n",
    "train(20,x,y)\n"
   ]
  },
  {
   "cell_type": "code",
   "execution_count": null,
   "metadata": {},
   "outputs": [],
   "source": []
  }
 ],
 "metadata": {
  "kernelspec": {
   "display_name": "Python 3",
   "language": "python",
   "name": "python3"
  },
  "language_info": {
   "codemirror_mode": {
    "name": "ipython",
    "version": 3
   },
   "file_extension": ".py",
   "mimetype": "text/x-python",
   "name": "python",
   "nbconvert_exporter": "python",
   "pygments_lexer": "ipython3",
   "version": "3.10.11"
  },
  "orig_nbformat": 4
 },
 "nbformat": 4,
 "nbformat_minor": 2
}
