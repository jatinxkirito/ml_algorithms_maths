{
 "cells": [
  {
   "cell_type": "code",
   "execution_count": 1,
   "metadata": {},
   "outputs": [],
   "source": [
    "import numpy as np"
   ]
  },
  {
   "cell_type": "code",
   "execution_count": 4,
   "metadata": {},
   "outputs": [],
   "source": [
    "def g(z):\n",
    "    return 1/(1+(np.e)**-z)\n",
    "def forward_propogation(w,b,x):\n",
    "    w=w.transpose()\n",
    "    y=np.matmul(x,w)+b\n",
    "    y=g(y)\n",
    "    return y\n",
    "def backword_propogation(y_t,y,w,x,b):\n",
    "    y=y-y_t\n",
    "    d_w=np.mean((np.matmul(y,x)))\n",
    "    d_b=np.mean(y)\n",
    "    print((np.mean((y)**2))/2)\n",
    "    #print(d_w,d_b)\n",
    "    w=w-0.00001*d_w\n",
    "    b=b-0.00001*d_b\n",
    "   # print(w)\n",
    "    return w,b\n",
    "def train(itr,x,y_t):\n",
    "    w=np.random.random(len(x[0]))*2\n",
    "    b=np.random.uniform(0,1)\n",
    "    #print(len(w))\n",
    "    while itr>0:\n",
    "        y=forward_propogation(w,b,x)\n",
    "        w,b=backword_propogation(y_t,y,w,x,b)\n",
    "        #print(w,b)\n",
    "        #print(w)\n",
    "        itr=itr-1\n"
   ]
  },
  {
   "cell_type": "code",
   "execution_count": 5,
   "metadata": {},
   "outputs": [
    {
     "name": "stdout",
     "output_type": "stream",
     "text": [
      "0.4999999372537867\n",
      "0.4999998980465238\n",
      "0.49999983425019595\n",
      "0.49999973032724265\n",
      "0.4999995607655178\n",
      "0.4999992834537913\n",
      "0.499998828330112\n",
      "0.4999980774289877\n",
      "0.49999682851697325\n",
      "0.49999472548699425\n",
      "0.49999111664165335\n",
      "0.4999847449066352\n",
      "0.49997301786120146\n",
      "0.49995015173199037\n",
      "0.49990204538147204\n",
      "0.4997904571447532\n",
      "0.49949432080827366\n",
      "0.4985182192121358\n",
      "0.49410466166842\n",
      "0.4749338230890393\n",
      "0.4035963781416153\n",
      "0.04561280355989273\n",
      "0.03817134539030926\n",
      "0.03256264909359399\n",
      "0.02798963113705588\n",
      "0.02426182363414697\n",
      "0.02124319795475089\n",
      "0.018802798933817665\n",
      "0.016824353376021003\n",
      "0.015212278178700982\n",
      "0.013890943711572384\n",
      "0.012801280135612016\n",
      "0.011897180667022642\n",
      "0.011142508610271043\n",
      "0.010508791980394451\n",
      "0.009973482753878804\n",
      "0.009518639994579728\n",
      "0.009129925368986363\n",
      "0.008795830519062395\n",
      "0.008507078855478165\n"
     ]
    }
   ],
   "source": [
    "x=np.random.randint(1,100,(100,5))\n",
    "for i in range (0,5):\n",
    "    x[:,i].sort()\n",
    "#print(len(x[0]))\n",
    "#print(x)\n",
    "y=np.random.randint(0,1,100)\n",
    "y.sort()\n",
    "train(40,x,y)"
   ]
  },
  {
   "cell_type": "code",
   "execution_count": null,
   "metadata": {},
   "outputs": [],
   "source": []
  }
 ],
 "metadata": {
  "kernelspec": {
   "display_name": "Python 3",
   "language": "python",
   "name": "python3"
  },
  "language_info": {
   "codemirror_mode": {
    "name": "ipython",
    "version": 3
   },
   "file_extension": ".py",
   "mimetype": "text/x-python",
   "name": "python",
   "nbconvert_exporter": "python",
   "pygments_lexer": "ipython3",
   "version": "3.10.11"
  },
  "orig_nbformat": 4
 },
 "nbformat": 4,
 "nbformat_minor": 2
}
