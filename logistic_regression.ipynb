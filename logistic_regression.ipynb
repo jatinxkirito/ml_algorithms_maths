{
 "cells": [
  {
   "cell_type": "code",
   "execution_count": 1,
   "metadata": {},
   "outputs": [],
   "source": [
    "import numpy as np"
   ]
  },
  {
   "cell_type": "code",
   "execution_count": 2,
   "metadata": {},
   "outputs": [],
   "source": [
    "def g(z):\n",
    "    return 1/(1+(np.e)**-z)\n",
    "def forward_propogation(w,b,x):\n",
    "    w=w.transpose()\n",
    "    y=np.matmul(x,w)+b\n",
    "    y=g(y)\n",
    "    return y\n",
    "def backword_propogation(y_t,y,w,x,b):\n",
    "    y=y-y_t\n",
    "    d_w=np.mean((np.matmul(y,x)))\n",
    "    d_b=np.mean(y)\n",
    "    print((np.mean((y)**2))/2)\n",
    "    #print(d_w,d_b)\n",
    "    w=w-0.00001*d_w\n",
    "    b=b-0.00001*d_b\n",
    "   # print(w)\n",
    "    return w,b\n",
    "def train(itr,x,y_t):\n",
    "    w=np.random.random(len(x[0]))*2\n",
    "    b=np.random.uniform(0,1)\n",
    "    #print(len(w))\n",
    "    while itr>0:\n",
    "        y=forward_propogation(w,b,x)\n",
    "        w,b=backword_propogation(y_t,y,w,x,b)\n",
    "        #print(w,b)\n",
    "        #print(w)\n",
    "        itr=itr-1\n"
   ]
  },
  {
   "cell_type": "code",
   "execution_count": 3,
   "metadata": {},
   "outputs": [
    {
     "name": "stdout",
     "output_type": "stream",
     "text": [
      "0.49999998758195074\n",
      "0.499999987028478\n",
      "0.49999998645032806\n",
      "0.49999998584640015\n",
      "0.49999998521554434\n",
      "0.49999998455655925\n",
      "0.49999998386819\n",
      "0.4999999831491255\n",
      "0.49999998239799637\n",
      "0.4999999816133719\n",
      "0.4999999807937574\n",
      "0.4999999799375917\n",
      "0.49999997904324384\n",
      "0.4999999781090097\n",
      "0.49999997713310945\n",
      "0.49999997611368374\n",
      "0.4999999750487897\n",
      "0.49999997393639817\n",
      "0.49999997277438923\n",
      "0.4999999715605479\n",
      "0.49999997029256077\n",
      "0.49999996896801063\n",
      "0.4999999675843725\n",
      "0.49999996613900843\n",
      "0.4999999646291626\n",
      "0.49999996305195593\n",
      "0.4999999614043809\n",
      "0.49999995968329536\n",
      "0.4999999578854167\n",
      "0.4999999560073155\n",
      "0.4999999540454092\n",
      "0.4999999519959548\n",
      "0.49999994985504215\n",
      "0.499999947618586\n",
      "0.4999999452823186\n",
      "0.4999999428417812\n",
      "0.49999994029231554\n",
      "0.499999937629055\n",
      "0.49999993484691535\n",
      "0.4999999319405848\n"
     ]
    }
   ],
   "source": [
    "x=np.random.randint(1,100,(100,5))\n",
    "for i in range (0,5):\n",
    "    x[:,i].sort()\n",
    "#print(len(x[0]))\n",
    "#print(x)\n",
    "y=np.random.randint(0,1,100)\n",
    "y.sort()\n",
    "train(40,x,y)"
   ]
  },
  {
   "cell_type": "code",
   "execution_count": null,
   "metadata": {},
   "outputs": [],
   "source": []
  }
 ],
 "metadata": {
  "kernelspec": {
   "display_name": "Python 3",
   "language": "python",
   "name": "python3"
  },
  "language_info": {
   "codemirror_mode": {
    "name": "ipython",
    "version": 3
   },
   "file_extension": ".py",
   "mimetype": "text/x-python",
   "name": "python",
   "nbconvert_exporter": "python",
   "pygments_lexer": "ipython3",
   "version": "3.10.11"
  },
  "orig_nbformat": 4
 },
 "nbformat": 4,
 "nbformat_minor": 2
}
