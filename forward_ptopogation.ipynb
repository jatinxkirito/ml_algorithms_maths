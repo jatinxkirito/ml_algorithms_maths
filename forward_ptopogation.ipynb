{
 "cells": [
  {
   "cell_type": "code",
   "execution_count": 14,
   "metadata": {},
   "outputs": [],
   "source": [
    "import numpy as np;\n",
    "import math\n",
    "#now we need to create a sequention forward propogation so first we will need to create a layer\n",
    "# activation function\n",
    "# We will be using sigmoid\n",
    "def g(z):\n",
    "    f=1/(1+((math.e)**-z))\n",
    "    #print(f.shape)\n",
    "    return f\n",
    "def dense(a,units=3):\n",
    "    # we need z=w.a +b\n",
    "    W=np.random.randint(-10,10,size=(len(a),units))\n",
    "    # now we need b\n",
    "    b=np.random.randint(-10,10,size=(units))\n",
    "    # now lets compute output\n",
    "    o_t=np.zeros(shape=(units))\n",
    "    for i in range(0,units):\n",
    "        w=W[:,i]\n",
    "        b_t=b[i]\n",
    "        z=np.dot(a,w)+b_t\n",
    "        o_t[i]=g(z)\n",
    "        #now we need activation function\n",
    "    return o_t\n",
    "    \n"
   ]
  },
  {
   "cell_type": "code",
   "execution_count": 19,
   "metadata": {},
   "outputs": [],
   "source": [
    "# now lets make a sequential funtion\n",
    "def sequential(a):\n",
    "    a1=dense(a=a,units=3)\n",
    "    print(type(a1[0]))\n",
    "    a2=dense(a1,4)\n",
    "    a3=dense(a2,4)\n",
    "    a4=dense(a3,3)\n",
    "    a5=dense(a4,1)\n",
    "    return a5"
   ]
  },
  {
   "cell_type": "code",
   "execution_count": 20,
   "metadata": {},
   "outputs": [
    {
     "name": "stdout",
     "output_type": "stream",
     "text": [
      "<class 'numpy.float64'>\n"
     ]
    },
    {
     "name": "stderr",
     "output_type": "stream",
     "text": [
      "C:\\Users\\sjmad\\AppData\\Local\\Temp\\ipykernel_5652\\1655900853.py:7: RuntimeWarning: overflow encountered in power\n",
      "  f=1/(1+((math.e)**-z))\n"
     ]
    },
    {
     "data": {
      "text/plain": [
       "array([0.00053996])"
      ]
     },
     "execution_count": 20,
     "metadata": {},
     "output_type": "execute_result"
    }
   ],
   "source": [
    "a=np.array([200,17])\n",
    "ot=sequential(a)\n",
    "ot"
   ]
  },
  {
   "cell_type": "code",
   "execution_count": 7,
   "metadata": {},
   "outputs": [],
   "source": [
    "# Now implementing the same function using matrices\n",
    "def dens(a,units=3):\n",
    "    # we need z=w.a +b\n",
    "    W=np.random.randint(-10,10,size=(len(a[0]),units))\n",
    "    # now we need b\n",
    "    b=np.random.randint(-10,10,size=(units))\n",
    "    # now lets compute output\n",
    "    o_t=np.zeros(shape=(units))\n",
    "    z=np.matmul(a,W)+b\n",
    "    o_t=g(z)\n",
    "        #now we need activation function\n",
    "    return o_t"
   ]
  },
  {
   "cell_type": "code",
   "execution_count": 2,
   "metadata": {},
   "outputs": [],
   "source": [
    "def sequentia(a):\n",
    "    a1=dens(a=a,units=3)\n",
    "    print(type(a1[0]))\n",
    "    a2=dens(a1,4)\n",
    "    a3=dens(a2,4)\n",
    "    a4=dens(a3,3)\n",
    "    a5=dens(a4,1)\n",
    "    return a5"
   ]
  },
  {
   "cell_type": "code",
   "execution_count": 15,
   "metadata": {},
   "outputs": [
    {
     "name": "stdout",
     "output_type": "stream",
     "text": [
      "(1, 3)\n",
      "<class 'numpy.ndarray'>\n",
      "(1, 4)\n",
      "(1, 4)\n",
      "(1, 3)\n",
      "(1, 1)\n",
      "[[0.99966066]]\n"
     ]
    },
    {
     "name": "stderr",
     "output_type": "stream",
     "text": [
      "C:\\Users\\sjmad\\AppData\\Local\\Temp\\ipykernel_15656\\3995154479.py:7: RuntimeWarning: overflow encountered in power\n",
      "  f=1/(1+((math.e)**-z))\n"
     ]
    }
   ],
   "source": [
    "a=np.array([[200,17]])\n",
    "#a.shape\n",
    "print(sequentia(a))"
   ]
  },
  {
   "cell_type": "code",
   "execution_count": null,
   "metadata": {},
   "outputs": [],
   "source": []
  }
 ],
 "metadata": {
  "kernelspec": {
   "display_name": "Python 3",
   "language": "python",
   "name": "python3"
  },
  "language_info": {
   "codemirror_mode": {
    "name": "ipython",
    "version": 3
   },
   "file_extension": ".py",
   "mimetype": "text/x-python",
   "name": "python",
   "nbconvert_exporter": "python",
   "pygments_lexer": "ipython3",
   "version": "3.10.11"
  },
  "orig_nbformat": 4
 },
 "nbformat": 4,
 "nbformat_minor": 2
}
