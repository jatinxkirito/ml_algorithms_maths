{
 "cells": [
  {
   "cell_type": "code",
   "execution_count": 14,
   "metadata": {},
   "outputs": [],
   "source": [
    "import numpy as np;\n",
    "import math\n",
    "#now we need to create a sequention forward propogation so first we will need to create a layer\n",
    "# activation function\n",
    "# We will be using sigmoid\n",
    "def g(z):\n",
    "    f=1/(1+((math.e)**-z))\n",
    "    return f\n",
    "def dense(a,units=3):\n",
    "    # we need z=w.a +b\n",
    "    W=np.random.randint(-10,10,size=(len(a),units))\n",
    "    # now we need b\n",
    "    b=np.random.randint(-10,10,size=(units))\n",
    "    # now lets compute output\n",
    "    o_t=np.zeros(shape=(units))\n",
    "    for i in range(0,units):\n",
    "        w=W[:,i]\n",
    "        b_t=b[i]\n",
    "        z=np.dot(a,w)+b_t\n",
    "        o_t[i]=g(z)\n",
    "        #now we need activation function\n",
    "    return o_t\n",
    "    \n"
   ]
  },
  {
   "cell_type": "code",
   "execution_count": 19,
   "metadata": {},
   "outputs": [],
   "source": [
    "# now lets make a sequential funtion\n",
    "def sequential(a):\n",
    "    a1=dense(a=a,units=3)\n",
    "    print(type(a1[0]))\n",
    "    a2=dense(a1,4)\n",
    "    a3=dense(a2,4)\n",
    "    a4=dense(a3,3)\n",
    "    a5=dense(a4,1)\n",
    "    return a5"
   ]
  },
  {
   "cell_type": "code",
   "execution_count": 20,
   "metadata": {},
   "outputs": [
    {
     "name": "stdout",
     "output_type": "stream",
     "text": [
      "<class 'numpy.float64'>\n"
     ]
    },
    {
     "name": "stderr",
     "output_type": "stream",
     "text": [
      "C:\\Users\\sjmad\\AppData\\Local\\Temp\\ipykernel_5652\\1655900853.py:7: RuntimeWarning: overflow encountered in power\n",
      "  f=1/(1+((math.e)**-z))\n"
     ]
    },
    {
     "data": {
      "text/plain": [
       "array([0.00053996])"
      ]
     },
     "execution_count": 20,
     "metadata": {},
     "output_type": "execute_result"
    }
   ],
   "source": [
    "a=np.array([200,17])\n",
    "ot=sequential(a)\n",
    "ot"
   ]
  },
  {
   "cell_type": "code",
   "execution_count": null,
   "metadata": {},
   "outputs": [],
   "source": []
  }
 ],
 "metadata": {
  "kernelspec": {
   "display_name": "Python 3",
   "language": "python",
   "name": "python3"
  },
  "language_info": {
   "codemirror_mode": {
    "name": "ipython",
    "version": 3
   },
   "file_extension": ".py",
   "mimetype": "text/x-python",
   "name": "python",
   "nbconvert_exporter": "python",
   "pygments_lexer": "ipython3",
   "version": "3.10.11"
  },
  "orig_nbformat": 4
 },
 "nbformat": 4,
 "nbformat_minor": 2
}
